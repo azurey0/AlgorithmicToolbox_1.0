{
 "cells": [
  {
   "cell_type": "code",
   "execution_count": 4,
   "metadata": {},
   "outputs": [],
   "source": [
    "import functools"
   ]
  },
  {
   "cell_type": "code",
   "execution_count": 5,
   "metadata": {},
   "outputs": [],
   "source": [
    "a = [633,63]"
   ]
  },
  {
   "cell_type": "code",
   "execution_count": 6,
   "metadata": {},
   "outputs": [],
   "source": [
    "# a > b return 1; a < b return -1; a = b return 0 实现升序排列\n",
    "def cmp(a, b):\n",
    "    str_a = str(a)\n",
    "    str_b = str(b)\n",
    "    \n",
    "    len_a = len(str_a)\n",
    "    len_b = len(str_b)\n",
    "    cmp_len = min(len_a, len_b)\n",
    "    \n",
    "    for i in range(cmp_len):\n",
    "        if str_a[i] < str_b[i]:\n",
    "            return -1\n",
    "        elif str_a[i] > str_b[i]:\n",
    "            return 1\n",
    "        else:\n",
    "            continue\n",
    "    # 如果前几项全部相等，那么当长度相等时\n",
    "    if len_a == len_b:\n",
    "        return 0\n",
    "    # 当a更长时,比较a的前半段和后半段哪个更大\n",
    "    if len_a > len_b:\n",
    "        pre_half = int(str_a[:cmp_len])\n",
    "        post_half = int(str_a[cmp_len:])\n",
    "        new_cmp = cmp(pre_half, post_half)\n",
    "        # 当new_cmp = 1，a的前半段大于a的后半段，也就是b大于a的后半段，应该放在后面，所以要return -new_cmp\n",
    "        # 例如a = 34422,b = 344时，34422344 < 34434422 此时应该是ba组合大\n",
    "        # 同理推得其他结论\n",
    "        return -new_cmp\n",
    "    if len_a < len_b:\n",
    "        pre_half = int(str_b[:cmp_len])\n",
    "        post_half = int(str_b[cmp_len:])\n",
    "        new_cmp = cmp(pre_half, post_half)\n",
    "        # 当new_cmp = 1，b的前半段大于b的后半段，也就是a大于b的后半段，应该放在前面，所以要return new_cmp\n",
    "        # 例如a = 344,b = 34422时，34434422 > 33422334\n",
    "        同理推得其他结论\n",
    "        return new_cmp"
   ]
  },
  {
   "cell_type": "code",
   "execution_count": 7,
   "metadata": {},
   "outputs": [
    {
     "data": {
      "text/plain": [
       "[63, 633]"
      ]
     },
     "execution_count": 7,
     "metadata": {},
     "output_type": "execute_result"
    }
   ],
   "source": [
    "a.sort(key=functools.cmp_to_key(cmp),reverse=True)\n",
    "a"
   ]
  },
  {
   "cell_type": "code",
   "execution_count": 8,
   "metadata": {},
   "outputs": [
    {
     "ename": "NameError",
     "evalue": "name 'string_' is not defined",
     "output_type": "error",
     "traceback": [
      "\u001b[1;31m---------------------------------------------------------------------------\u001b[0m",
      "\u001b[1;31mNameError\u001b[0m                                 Traceback (most recent call last)",
      "\u001b[1;32m<ipython-input-8-2a2768e2884a>\u001b[0m in \u001b[0;36m<module>\u001b[1;34m\u001b[0m\n\u001b[0;32m      1\u001b[0m \u001b[0mstring_a\u001b[0m \u001b[1;33m=\u001b[0m \u001b[0mlist\u001b[0m\u001b[1;33m(\u001b[0m\u001b[0mmap\u001b[0m\u001b[1;33m(\u001b[0m\u001b[0mstr\u001b[0m\u001b[1;33m,\u001b[0m \u001b[0ma\u001b[0m\u001b[1;33m)\u001b[0m\u001b[1;33m)\u001b[0m\u001b[1;33m\u001b[0m\u001b[1;33m\u001b[0m\u001b[0m\n\u001b[1;32m----> 2\u001b[1;33m \u001b[0mstring_\u001b[0m\u001b[1;33m\u001b[0m\u001b[1;33m\u001b[0m\u001b[0m\n\u001b[0m",
      "\u001b[1;31mNameError\u001b[0m: name 'string_' is not defined"
     ]
    }
   ],
   "source": [
    "string_a = list(map(str, a))\n",
    "string_"
   ]
  },
  {
   "cell_type": "code",
   "execution_count": null,
   "metadata": {},
   "outputs": [],
   "source": []
  },
  {
   "cell_type": "code",
   "execution_count": null,
   "metadata": {},
   "outputs": [],
   "source": []
  }
 ],
 "metadata": {
  "kernelspec": {
   "display_name": "Python 3",
   "language": "python",
   "name": "python3"
  },
  "language_info": {
   "codemirror_mode": {
    "name": "ipython",
    "version": 3
   },
   "file_extension": ".py",
   "mimetype": "text/x-python",
   "name": "python",
   "nbconvert_exporter": "python",
   "pygments_lexer": "ipython3",
   "version": "3.7.3"
  }
 },
 "nbformat": 4,
 "nbformat_minor": 2
}
